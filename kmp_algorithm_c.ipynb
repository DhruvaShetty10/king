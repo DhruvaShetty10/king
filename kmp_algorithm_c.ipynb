{
  "nbformat": 4,
  "nbformat_minor": 0,
  "metadata": {
    "colab": {
      "provenance": [],
      "history_visible": true,
      "authorship_tag": "ABX9TyO/Pee7Ok69LquLZ+qlcGf6",
      "include_colab_link": true
    },
    "kernelspec": {
      "name": "python3",
      "display_name": "Python 3"
    },
    "language_info": {
      "name": "python"
    }
  },
  "cells": [
    {
      "cell_type": "markdown",
      "metadata": {
        "id": "view-in-github",
        "colab_type": "text"
      },
      "source": [
        "<a href=\"https://colab.research.google.com/github/DhruvaShetty10/king/blob/main/kmp_algorithm_c.ipynb\" target=\"_parent\"><img src=\"https://colab.research.google.com/assets/colab-badge.svg\" alt=\"Open In Colab\"/></a>"
      ]
    },
    {
      "cell_type": "code",
      "source": [
        "%%writefile kmp_algorithm.c\n",
        "#include <stdio.h>\n",
        "#include <string.h>\n",
        "\n",
        "void computeLPSArray(const char* pattern, int m, int* lps) {\n",
        "    int length = 0;\n",
        "    lps[0] = 0;\n",
        "\n",
        "    for (int i = 1; i < m; i++) {\n",
        "        while (length > 0 && pattern[i] != pattern[length]) {\n",
        "            length = lps[length - 1];\n",
        "        }\n",
        "        if (pattern[i] == pattern[length]) {\n",
        "            length++;\n",
        "        }\n",
        "        lps[i] = length;\n",
        "    }\n",
        "}\n",
        "\n",
        "void KMPSearch(const char* text, const char* pattern) {\n",
        "    int n = strlen(text);\n",
        "    int m = strlen(pattern);\n",
        "    int lps[m];\n",
        "\n",
        "    computeLPSArray(pattern, m, lps);\n",
        "\n",
        "    int i = 0, j = 0;\n",
        "    while (i < n) {\n",
        "        if (text[i] == pattern[j]) {\n",
        "            i++;\n",
        "            j++;\n",
        "        }\n",
        "        if (j == m) {\n",
        "            printf(\"Pattern found at index %d\\\\n\", i - j);\n",
        "            j = lps[j - 1];\n",
        "        } else if (i < n && text[i] != pattern[j]) {\n",
        "            if (j != 0) {\n",
        "                j = lps[j - 1];\n",
        "            } else {\n",
        "                i++;\n",
        "            }\n",
        "        }\n",
        "    }\n",
        "}\n",
        "\n",
        "int main() {\n",
        "    const char text[] = \"ABABDABACDABABCABAB\";\n",
        "    const char pattern[] = \"ABABCABAB\";\n",
        "    KMPSearch(text, pattern);\n",
        "    return 0;\n",
        "}\n"
      ],
      "metadata": {
        "colab": {
          "base_uri": "https://localhost:8080/"
        },
        "id": "4xzoXtPq5CWN",
        "outputId": "01b2cd8e-df95-40b8-e86a-97bcd57e8dfe"
      },
      "execution_count": 15,
      "outputs": [
        {
          "output_type": "stream",
          "name": "stdout",
          "text": [
            "Overwriting kmp_algorithm.c\n"
          ]
        }
      ]
    },
    {
      "cell_type": "code",
      "source": [
        "!gcc kmp_algorithm.c -o kmp_algorithm"
      ],
      "metadata": {
        "id": "9KM5Fvgv67ry"
      },
      "execution_count": 16,
      "outputs": []
    },
    {
      "cell_type": "code",
      "source": [
        "!time ./kmp_algorithm"
      ],
      "metadata": {
        "id": "1lDXSI1G7Afh",
        "colab": {
          "base_uri": "https://localhost:8080/"
        },
        "outputId": "385cc33f-98af-4b3d-eaa3-ea6fb36f153a"
      },
      "execution_count": 17,
      "outputs": [
        {
          "output_type": "stream",
          "name": "stdout",
          "text": [
            "Pattern found at index 10\\n\n",
            "real\t0m0.001s\n",
            "user\t0m0.000s\n",
            "sys\t0m0.001s\n"
          ]
        }
      ]
    }
  ]
}